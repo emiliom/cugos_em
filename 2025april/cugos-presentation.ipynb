{
 "cells": [
  {
   "cell_type": "markdown",
   "id": "eae22a55",
   "metadata": {
    "cell_style": "center",
    "slideshow": {
     "slide_type": "slide"
    },
    "tags": []
   },
   "source": [
    "# HoloViz Python dashboards for ocean data  from diving, autonomous floats\n",
    "\n",
    "**Emilio Mayorga**  \n",
    "Senior Oceanographer  \n",
    "Applied Physics Laboratory  \n",
    "University of Washington, Seattle  \n",
    "emiliomayorga@gmail.com  \n",
    "\n",
    "---------------------------\n",
    "\n",
    "CUGOS Monthly Meeting, 2025-04-16"
   ]
  },
  {
   "cell_type": "markdown",
   "id": "0757ec0e",
   "metadata": {
    "slideshow": {
     "slide_type": "skip"
    },
    "tags": []
   },
   "source": [
    "## Creating a Python environment to run the code in this notebook\n",
    "\n",
    "INSTALL THESE PACKAGES, VIA CONDA OR OTHERWISE\n",
    "\n",
    "```bash\n",
    "mamba create -c conda-forge -n cugos_202504_mayorga jupyter rise webcolors uri-template jsonpointer isoduration fqdn jupyter_contrib_nbextensions requests aiohttp pooch geopandas xarray dask matplotlib zarr pyarrow fastparquet python-snappy holoviews geoviews hvplot datashader panel param jupyter_bokeh\n",
    "```"
   ]
  },
  {
   "cell_type": "markdown",
   "id": "62374641",
   "metadata": {
    "cell_style": "center",
    "slideshow": {
     "slide_type": "slide"
    }
   },
   "source": [
    "## My excuse for talking about ...\n",
    "\n",
    "- A specific type of data I'm working with.\n",
    "- The (Python) tools I'm using to pre-process data and for ...\n",
    "- Developing custom data exploration web applications (dashboards).\n",
    "\n",
    "Hopefully just enough details to whet your appetite!"
   ]
  },
  {
   "cell_type": "markdown",
   "id": "9c93b849",
   "metadata": {
    "slideshow": {
     "slide_type": "subslide"
    }
   },
   "source": [
    "### Specifically\n",
    "\n",
    "- Depth-profiling (diving) floats, and their data\n",
    "- The `HoloViz` ecosystem of interrelated Python packages for interactive data visualization and web app development \n",
    "- Two* specific examples (two projects) with dashboards for such data\n",
    "\n",
    "<small>* Maybe 3 ...</small>"
   ]
  },
  {
   "cell_type": "markdown",
   "id": "8df4a519",
   "metadata": {
    "cell_style": "center",
    "slideshow": {
     "slide_type": "slide"
    }
   },
   "source": [
    "## Depth-profiling (diving) floats\n",
    "\n",
    "- Largely passive, not self-propelled\n",
    "- Buoyancy is controlled by changing its density via a bladder that's contracted (lower volume -> higher density -> sinking) or expanded (ascending)\n",
    "- At the surface, transmits data and receives instructions via satellite\n",
    "- Latitude and longitude positions (from GPS) available only when float surfaces\n",
    "- May be \"nudged\" towards a target path by adjusting 2 parameters at each \"dive\": **what depth to \"park\" at, and for how long**"
   ]
  },
  {
   "cell_type": "markdown",
   "id": "4d207526",
   "metadata": {
    "cell_style": "center",
    "slideshow": {
     "slide_type": "subslide"
    }
   },
   "source": [
    "### Argo floats & Argo network\n",
    "\n",
    "Most widespread type and use are the \"Argo\" floats that are part of the global Argo network (https://argo.ucsd.edu). They feature a standard set of sensors, follow a fixed descending-and-ascending behavior, and feed into a common data system. Data are openly available\n",
    "\n",
    "![Argo global deployments status](img/argo_status_small.png)\n",
    "\n",
    "These projects are not feeding data to Argo, yet."
   ]
  },
  {
   "cell_type": "markdown",
   "id": "10373b46",
   "metadata": {
    "slideshow": {
     "slide_type": "subslide"
    }
   },
   "source": [
    " ### Depth-profiling floats\n",
    " \n",
    " ![Profiling floats, profile navigation behavior](img/profiling_floats_argo_vs_variabledepthduration.png)\n",
    " \n",
    " 1 dbar (decibar, pressure) is approx. 1 meter. EM-APEX floats also measure current velocity."
   ]
  },
  {
   "cell_type": "markdown",
   "id": "82590d75",
   "metadata": {
    "slideshow": {
     "slide_type": "subslide"
    }
   },
   "source": [
    " ### Components of a dive\n",
    "    \n",
    " ![Components and events from a float dive](img/emapex_profile_events.png)  "
   ]
  },
  {
   "cell_type": "markdown",
   "id": "705cc338",
   "metadata": {
    "slideshow": {
     "slide_type": "slide"
    }
   },
   "source": [
    "## Two projects: SQUID and ALFAC\n",
    "\n",
    "- SQUID: Sampling QUantitative Internal-wave Distributions\n",
    "- ALFAC: Array of Lagrangian Floats for Areal Coverage\n",
    "\n",
    "*Will try to share the code for both apps on GitHub in the future. But it'll take some work*"
   ]
  },
  {
   "cell_type": "markdown",
   "id": "4441c585",
   "metadata": {
    "cell_style": "center",
    "slideshow": {
     "slide_type": "subslide"
    }
   },
   "source": [
    "### Projects: SQUID\n",
    "\n",
    "- https://www.apl.uw.edu/project/project.php?id=squid. Led by James Girton, APL\n",
    "- Its goal is *\"to improve the broad-scale characterization of internal wave climates through global deployments of autonomous profiling floats measuring shear, strain, and turbulent mixing\"*. And to develop data standards and mechanisms to make data from EM-APEX floats more widely accessible and shareable.\n",
    "- Deployments around the world\n",
    "- HoloViz/Panel app: https://squid-test1.azurewebsites.net"
   ]
  },
  {
   "cell_type": "markdown",
   "id": "d1ec307c",
   "metadata": {
    "cell_style": "center",
    "slideshow": {
     "slide_type": "subslide"
    }
   },
   "source": [
    "### Projects: ALFAC\n",
    "\n",
    "- No public website. Led by Zoltan Szuts, APL\n",
    "- Developing a *\"shoreside autonomy software, 'FlowPilot', that selects dive parameters (park depth & duration) to align with ocean currents favorable to the chosen sampling mission. FlowPilot uses in-situ float data and external data sources to predict float drift paths using multiple prediction methods, evaluates the prediction uncertainties, and makes a recommendation for the next dive in real-time.\"*\n",
    "- Deployment of clusters of floats within specific areas, for experiments. So far, in the Western Pacific and Gulf Stream.\n",
    "- HoloViz/Panel app is for internal use only at this time"
   ]
  },
  {
   "cell_type": "markdown",
   "id": "9a430d7d",
   "metadata": {
    "slideshow": {
     "slide_type": "slide"
    }
   },
   "source": [
    "## HoloViz ecosystem of packages, https://holoviz.org\n",
    "\n",
    "![HoloViz packages](img/holoviz_packages.png)\n",
    "\n",
    "- *\"a set of open-source Python packages to streamline the entire process of working with small and large datasets [for visualization and exploration] in a web browser\"*\n",
    "- Run from scripts/modules or Jupyter notebook\n",
    "- Support different plotting backends (matplotlib, plotly, etc), but `bokeh` is more \"native\"\n",
    "- Apps usually require server deployment and Python environment, but light-weight apps may be client-side\n",
    "- Great set of working tutorials and examples, for individual packages and integrated scenarios. https://holoviz.org/tutorial/\n",
    "- **I will focus on:** `Panel`, `HoloViews`, `GeoViews`, `hvPlot`, `param`"
   ]
  },
  {
   "cell_type": "markdown",
   "id": "72ab2933",
   "metadata": {
    "slideshow": {
     "slide_type": "slide"
    }
   },
   "source": [
    "## Explore HoloViews, GeoViews and hvPlot\n",
    "\n",
    "With a built-in `Panel` app (`hvplot.explorer`) on the side"
   ]
  },
  {
   "cell_type": "code",
   "execution_count": null,
   "id": "3241d306",
   "metadata": {
    "slideshow": {
     "slide_type": "subslide"
    }
   },
   "outputs": [],
   "source": [
    "from pathlib import Path\n",
    "import geopandas as gpd\n",
    "import pandas as pd\n",
    "import hvplot.pandas # noqa\n",
    "import warnings\n",
    "warnings.simplefilter(\"ignore\", category=UserWarning)\n",
    "\n",
    "data_dpth = Path(\"./data\")"
   ]
  },
  {
   "cell_type": "code",
   "execution_count": null,
   "id": "9978f101",
   "metadata": {
    "slideshow": {
     "slide_type": "subslide"
    }
   },
   "outputs": [],
   "source": [
    "trajectories_gdf = gpd.read_parquet(data_dpth / \"gps_deployments_lines_allexperiments.geoparquet\")\n",
    "\n",
    "trajectories_start_gdf = trajectories_gdf.set_geometry('point_start_geom').drop(columns='geometry')\n",
    "\n",
    "# Default GeoDataFrame plotting with matplotlib: trajectories_start_gdf.plot()\n",
    "trajectories_start_gdf.hvplot()"
   ]
  },
  {
   "cell_type": "code",
   "execution_count": null,
   "id": "54e4a81d",
   "metadata": {
    "slideshow": {
     "slide_type": "subslide"
    }
   },
   "outputs": [],
   "source": [
    "# Customize a bit\n",
    "trajectories_start_gdf.hvplot(\n",
    "    geo=True,\n",
    "    by='experiment', \n",
    "    hover_cols=['deployment', 'datetime_min'], \n",
    "    tiles='EsriNatGeo',\n",
    "    tools=['undo', 'hover'],\n",
    ")"
   ]
  },
  {
   "cell_type": "code",
   "execution_count": null,
   "id": "333ffc5c",
   "metadata": {
    "slideshow": {
     "slide_type": "subslide"
    }
   },
   "outputs": [],
   "source": [
    "# Out-of-the-box hvplot explorer\n",
    "pd.DataFrame(trajectories_start_gdf).hvplot.explorer()"
   ]
  },
  {
   "cell_type": "code",
   "execution_count": null,
   "id": "29683d5d",
   "metadata": {
    "slideshow": {
     "slide_type": "subslide"
    }
   },
   "outputs": [],
   "source": [
    "# Fall back to Geo/HoloViews. See \"overlay\" (*) and \"layout\" (+) operators\n",
    "import geoviews as gv, holoviews as hv\n",
    "hv.extension('bokeh')\n",
    "\n",
    "basemaptiles = gv.tile_sources.EsriOceanBase\n",
    "trajectories_start = gv.Points(trajectories_start_gdf)\n",
    "\n",
    "trajectories_start + trajectories_gdf.hvplot(geo=True)\n",
    "# Now fancier, with tiles and holoviews \"options\"\n",
    "# ( (basemaptiles * trajectories_start.opts(tools=['hover'])).opts(xlabel='lat', ylabel='lon', title=\"with holoviews\")\n",
    "#   + trajectories_gdf.hvplot(geo=True, tiles='OSM', title='with hvplot')\n",
    "# )"
   ]
  },
  {
   "cell_type": "code",
   "execution_count": null,
   "id": "65e7fcc5",
   "metadata": {
    "slideshow": {
     "slide_type": "subslide"
    }
   },
   "outputs": [],
   "source": [
    "import hvplot.xarray\n",
    "import xarray as xr\n",
    "\n",
    "xr_ds = xr.tutorial.open_dataset('air_temperature').load()\n",
    "xr_ds\n",
    "\n",
    "# -- Alternatively, can play with this Zarr dataset accessed from the cloud\n",
    "# From https://pangeo-forge.org/dashboard/feedstock/78\n",
    "# zarr_store = 'https://ncsa.osn.xsede.org/Pangeo/pangeo-forge/pangeo-forge/AGDC-feedstock/AGCD.zarr'\n",
    "# xr_ds = xr.open_dataset(zarr_store, engine='zarr', chunks={})\n",
    "# Lazy loading (metadata and coordinate values only)\n",
    "# Data variables loaded as lazy, chunked \"Dask\" arrays\n",
    "# print(f\"Total size (not downloaded size!): {xr_ds.nbytes/1e9:.1f} GB\")\n",
    "# xr_ds"
   ]
  },
  {
   "cell_type": "code",
   "execution_count": null,
   "id": "94adb598",
   "metadata": {
    "slideshow": {
     "slide_type": "subslide"
    }
   },
   "outputs": [],
   "source": [
    "xr_ds['air'].sel(time='2013-06-01 12:00').hvplot()"
   ]
  },
  {
   "cell_type": "code",
   "execution_count": null,
   "id": "0f51e6bf",
   "metadata": {
    "scrolled": true,
    "slideshow": {
     "slide_type": "subslide"
    }
   },
   "outputs": [],
   "source": [
    "# Let hvplot create a slider widget to interactively flip through time\n",
    "xr_ds['air'].hvplot(groupby='time')"
   ]
  },
  {
   "cell_type": "markdown",
   "id": "f39e4bc7",
   "metadata": {
    "slideshow": {
     "slide_type": "slide"
    }
   },
   "source": [
    "## Quick Panel demo\n",
    "\n",
    "Define a couple of Panel widgets and link them to a dataset via `.interactive()` method\n",
    "\n",
    "Demo taken from https://hvplot.holoviz.org"
   ]
  },
  {
   "cell_type": "code",
   "execution_count": null,
   "id": "7c460085",
   "metadata": {
    "slideshow": {
     "slide_type": "subslide"
    }
   },
   "outputs": [],
   "source": [
    "import panel as pn\n",
    "\n",
    "w_quantile = pn.widgets.FloatSlider(name='quantile', start=0, end=1)\n",
    "w_time = pn.widgets.IntSlider(name='time', start=0, end=10)\n",
    "\n",
    "(  xr_ds['air'].interactive(loc='left')\n",
    "   .isel(time=w_time)\n",
    "   .quantile(q=w_quantile, dim='lon')\n",
    "   .hvplot(ylabel='Air Temperature [K]', width=500) )"
   ]
  },
  {
   "cell_type": "markdown",
   "id": "0cc0c0b3",
   "metadata": {
    "slideshow": {
     "slide_type": "slide"
    }
   },
   "source": [
    "## Source data structure and formats"
   ]
  },
  {
   "cell_type": "markdown",
   "id": "3b77ec72",
   "metadata": {
    "slideshow": {
     "slide_type": "slide"
    }
   },
   "source": [
    "## SQUID: source netCDF file and pre-processed GeoParquet files\n",
    "\n",
    "\n",
    "- (Geo)Parquet: open \"columnar\" data store with chunking and compression, plays well in cloud object storage\n",
    "- Pre-processing done with xarray, GeoPandas.\n",
    "- `GeoParquet` file generated from source netCDF file, to extract point and lat-lon line geometries and aggregated attributes, for quick & convenient access in the SQUID App.\n",
    "- That's the `gps_deployments_lines_allexperiments.geoparquet` file used earlier in the `hvPlot` demo. Includes both line and point geometry columns."
   ]
  },
  {
   "cell_type": "markdown",
   "id": "2363404a",
   "metadata": {
    "slideshow": {
     "slide_type": "slide"
    }
   },
   "source": [
    "## SQUID: binned netCDF file, with several float \"trajectories\"\n",
    "\n",
    "- A data product heavily post-processed through scripts that could be fully automated.\n",
    "- Not a regular grid structure; a \"discrete sampling geometries\" feature type, per netCDF data model.\n",
    "- Open the netCDF file with xarray, examine its structure."
   ]
  },
  {
   "cell_type": "code",
   "execution_count": null,
   "id": "839de678",
   "metadata": {
    "slideshow": {
     "slide_type": "subslide"
    }
   },
   "outputs": [],
   "source": [
    "zgrid_ds = xr.open_dataset(data_dpth / \"SQUID_NCEI.nc\", decode_times=False)\n",
    "zgrid_ds"
   ]
  },
  {
   "cell_type": "markdown",
   "id": "4a87eb8f",
   "metadata": {
    "slideshow": {
     "slide_type": "slide"
    }
   },
   "source": [
    "## ALFAC: FlowPilot Database (PostgreSQL)\n",
    "\n",
    "![Complete ERD; tables used by FP Viz app are in green](img/flowpilot_schema_erd.png)"
   ]
  },
  {
   "cell_type": "markdown",
   "id": "a0a96fd7",
   "metadata": {
    "slideshow": {
     "slide_type": "subslide"
    }
   },
   "source": [
    "### Tables used by the FlowPilot Visualization App\n",
    "\n",
    "![ERD, tables used by FP Viz app](img/flowpilot_schema_erd-fpvizonly.png)"
   ]
  },
  {
   "cell_type": "markdown",
   "id": "a8a9d978",
   "metadata": {
    "slideshow": {
     "slide_type": "slide"
    }
   },
   "source": [
    "## Sample SQL for pre-processing, for viz app\n",
    "\n",
    "For `dive` data. SQL code trimmed a bit. Pulled in from DB via `pandas.read_sql_query()`. This is followed by a lot of additional processing: further data cleaning, timestamp formatting, creating point and line GeoDataFrames, creating dynamic HoloViews elements, etc.\n",
    "\n",
    "![SQL code for querying dives](img/flowpilotviz_sqlquery_dive.png)"
   ]
  },
  {
   "cell_type": "markdown",
   "id": "81de0604",
   "metadata": {
    "slideshow": {
     "slide_type": "slide"
    }
   },
   "source": [
    "## The apps\n",
    "\n",
    "Or at least screenshots"
   ]
  },
  {
   "cell_type": "markdown",
   "id": "9f5701c7",
   "metadata": {
    "slideshow": {
     "slide_type": "subslide"
    }
   },
   "source": [
    "### SQUID\n",
    "\n",
    "![SQUID App screenshot](img/app_screenshot-squid.png)"
   ]
  },
  {
   "cell_type": "markdown",
   "id": "3b079a51",
   "metadata": {
    "slideshow": {
     "slide_type": "subslide"
    }
   },
   "source": [
    "### ALFAC / FlowPilot\n",
    "\n",
    "![ALFAC FlowPilot Visualization App screenshot](img/app_screenshot-alfacflowpilot.png)"
   ]
  },
  {
   "cell_type": "markdown",
   "id": "116db59d",
   "metadata": {
    "slideshow": {
     "slide_type": "slide"
    }
   },
   "source": [
    "## HoloViz code snippets from my apps"
   ]
  },
  {
   "cell_type": "markdown",
   "id": "06333971",
   "metadata": {
    "slideshow": {
     "slide_type": "subslide"
    }
   },
   "source": [
    "Select a \"trajectory\" based on change to a text widget, `trajectory_sel_text`. **The `.apply()` method in action, passing a `param` object.**\n",
    "\n",
    "```python\n",
    "def select_by_trid(hvds, trajectory_id):    \n",
    "    return hvds.select(trajectory_id=trajectory_id)\n",
    "\n",
    "selected_trajectory_layer = (\n",
    "    gps_deployments_hvPath.relabel(\"Selected trajectory\").apply(\n",
    "        select_by_trid, \n",
    "        trajectory_id=trajectory_sel_text.param.value,\n",
    "    ).opts(color='yellow', line_width=3)\n",
    ")\n",
    "```"
   ]
  },
  {
   "cell_type": "markdown",
   "id": "0b7fcd41",
   "metadata": {
    "slideshow": {
     "slide_type": "subslide"
    }
   },
   "source": [
    "Update the `trajectory_sel_text` Panel text widget based on a selection (\"tap\") action on `gps_deployments_hvPath` line element.\n",
    "\n",
    "```python\n",
    "traj_stream = Selection1D(source=gps_deployments_hvPath, index=[0])\n",
    "\n",
    "@pn.depends(s=traj_stream.param.index, watch=True)\n",
    "def _update_traj_select(s):\n",
    "    select_index = s[0] if s else 0\n",
    "    trajectory_sel_text.value = traj_lines_trajid_vs_idx[select_index]\n",
    "```"
   ]
  },
  {
   "cell_type": "markdown",
   "id": "d5c7071b",
   "metadata": {
    "slideshow": {
     "slide_type": "subslide"
    }
   },
   "source": [
    "Use CSS and styling properties to heavily customiz appearance and rendering of a Panel element.\n",
    "\n",
    "```python\n",
    "MARKDOWN_CSS = \"\"\"\n",
    "p {  margin: 1px; padding-top: 0px; padding-bottom: 0px;\n",
    "     border: 0.5px solid #cccccc; font-size: 11pt;  }\n",
    "\"\"\"\n",
    "sel_trajectory_pn_md = pn.pane.Markdown(\n",
    "    sel_traj_display_str(trajectory_id_initial),\n",
    "    styles={'padding-top': '0px', 'padding-bottom': '0px'},\n",
    "    stylesheets=[MARKDOWN_CSS]\n",
    ")\n",
    "```"
   ]
  },
  {
   "cell_type": "markdown",
   "id": "3c61c4b4",
   "metadata": {
    "slideshow": {
     "slide_type": "subslide"
    }
   },
   "source": [
    "Arrange app elements using Panel `Row` and `Col` elements\n",
    "\n",
    "```python\n",
    "header_bar_mission_col = pn.Column(\n",
    "    pn.Row(\n",
    "        fpv_md.header_bar_mission,\n",
    "        fpv_widgets.mission_select),\n",
    "    pn.Row(\n",
    "        fpv_md.header_bar_mission_info,\n",
    "        margin=0),\n",
    "    margin=0, width=260,\n",
    ")\n",
    "```"
   ]
  },
  {
   "cell_type": "markdown",
   "id": "32a8fd69",
   "metadata": {
    "slideshow": {
     "slide_type": "subslide"
    }
   },
   "source": [
    "Use a Panel web framework template.\n",
    "\n",
    "```python\n",
    "app_template = pn.template.FastListTemplate(\n",
    "    title=title_str, sidebar_width=400,\n",
    "    sidebar=[pn.pane.Markdown(description_md), pn.pane.Markdown(\"### SQUID\")],\n",
    "    main=[pn.Row(traj_sel_text, sel_traj_pn_md,\n",
    "           align='center', margin=0, styles={'padding-top': '0px'}),\n",
    "          plots_accordion],\n",
    "    theme_toggle=False, background='lightgray'\n",
    ")\n",
    "```"
   ]
  },
  {
   "cell_type": "markdown",
   "id": "0409d643",
   "metadata": {
    "slideshow": {
     "slide_type": "slide"
    }
   },
   "source": [
    "## Running the app\n",
    "\n",
    "- Within the app code, use `my_panel_app_object.servable()` (or `my_panel_app_object.servable().show()` for testing).\n",
    "- From command line: `panel serve --autoreload --global-loading-spinner --port 5100 --allow-websocket-origin='*' --log-file mylogfile.log basepath/myappnotebook.ipynb`\n",
    "    - Bare bones: `panel serve basepath/myappnotebook.ipynb`"
   ]
  },
  {
   "cell_type": "markdown",
   "id": "16ccbbcb",
   "metadata": {
    "slideshow": {
     "slide_type": "slide"
    }
   },
   "source": [
    "## App deployment\n",
    "\n",
    "- **SQUID**\n",
    "    - MS `Azure` (using Ubuntu Linux). https://squid-test1.azurewebsites.net\n",
    "    - Maintained and developed in a local git clone\n",
    "    - Updates deployed via Azure Git push. Python environment maitained via `pip` (or `Docker` container, but I wanted to keep things simple)\n",
    "    - Project page https://www.apl.uw.edu/project/project.php?id=squid\n",
    "- **ALFAC**\n",
    "    - Everything is in APL network only, behind VPN\n",
    "    - Deployment to an Ubuntu server, with Apache\n",
    "    - Maintained and developed via project GitLab.\n",
    "    - Updates deployed via Git pull from GitLab repo\n",
    "- **TROCAS**\n",
    "    - CO<sub>2</sub> at the mouth of the Amazon River, sampled continuously by boat\n",
    "    - On GitHub, https://github.com/amazon-riverbgc/trocas-herokuapp1. *But the code is getting long in the tooth!*\n",
    "    - Deployment to `Heroku` via Heroku CLI, as `Docker` container\n",
    "    - See https://amazon-riverbgc.github.io/TROCAS/docs/databrowser.html"
   ]
  },
  {
   "cell_type": "markdown",
   "id": "00eef6e9",
   "metadata": {
    "slideshow": {
     "slide_type": "slide"
    }
   },
   "source": [
    "## Strengths and especially annoyances\n",
    "\n",
    "For a later time .... Sigh\n",
    "\n",
    "Ask me today or ping me any time."
   ]
  },
  {
   "cell_type": "code",
   "execution_count": null,
   "id": "da210d0a",
   "metadata": {},
   "outputs": [],
   "source": []
  }
 ],
 "metadata": {
  "celltoolbar": "Slideshow",
  "kernelspec": {
   "display_name": "Python 3 (ipykernel)",
   "language": "python",
   "name": "python3"
  },
  "language_info": {
   "codemirror_mode": {
    "name": "ipython",
    "version": 3
   },
   "file_extension": ".py",
   "mimetype": "text/x-python",
   "name": "python",
   "nbconvert_exporter": "python",
   "pygments_lexer": "ipython3",
   "version": "3.12.10"
  }
 },
 "nbformat": 4,
 "nbformat_minor": 5
}
